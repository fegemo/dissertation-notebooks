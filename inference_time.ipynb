{
 "cells": [
  {
   "cell_type": "markdown",
   "source": [
    "# Inference Time of the Proposed Models\n",
    "\n",
    "This notebook measures the time a model takes to generate an image. The time \n",
    "is selected as the quickest among 100 runs. It is not the average, as we\n",
    "want to know how fast inference takes in an environment that is dedicated\n",
    "to the task."
   ],
   "metadata": {
    "collapsed": false
   },
   "id": "a975b1c91f8640d"
  },
  {
   "cell_type": "markdown",
   "source": [
    "## Loads the Models"
   ],
   "metadata": {
    "collapsed": false
   },
   "id": "60fc05c58d7e6332"
  },
  {
   "cell_type": "code",
   "source": [
    "import tensorflow as tf\n",
    "\n",
    "from ModelProxy import Pix2PixModelProxy, StarGANModelProxy, CollaGANModelProxy\n",
    "\n",
    "# model_loaders = {\n",
    "#     'pix2pix': lambda: tf.keras.models.load_model('models/pix2pix/front-to-right', compile=False),\n",
    "#     # 'stargan': lambda: tf.keras.models.load_model(\n",
    "#     #     'models/selection/stargan-network-and-sampler/paired/target-multi/network-both', compile=False), # went to sbgames'24 originally\n",
    "#     'stargan': lambda: tf.keras.models.load_model('models/stargan', compile=False),\n",
    "#     'collagan': lambda: tf.keras.models.load_model('models/collagan', compile=False)\n",
    "# }\n",
    "\n",
    "model_loaders = {\n",
    "    'pix2pix': lambda: Pix2PixModelProxy('models/pix2pix'),\n",
    "    'stargan': lambda: StarGANModelProxy('models/stargan'),\n",
    "    'collagan': lambda: CollaGANModelProxy('models/collagan')\n",
    "}"
   ],
   "metadata": {
    "collapsed": false,
    "ExecuteTime": {
     "end_time": "2025-05-30T18:07:39.785062Z",
     "start_time": "2025-05-30T18:08:32.081385Z"
    }
   },
   "id": "2cd84df7b41fd025",
   "outputs": [
    {
     "name": "stderr",
     "output_type": "stream",
     "text": [
      "2025-05-30 15:07:36.248183: E external/local_xla/xla/stream_executor/cuda/cuda_fft.cc:479] Unable to register cuFFT factory: Attempting to register factory for plugin cuFFT when one has already been registered\n",
      "2025-05-30 15:07:36.277621: E external/local_xla/xla/stream_executor/cuda/cuda_dnn.cc:10575] Unable to register cuDNN factory: Attempting to register factory for plugin cuDNN when one has already been registered\n",
      "2025-05-30 15:07:36.277666: E external/local_xla/xla/stream_executor/cuda/cuda_blas.cc:1442] Unable to register cuBLAS factory: Attempting to register factory for plugin cuBLAS when one has already been registered\n",
      "2025-05-30 15:07:36.296565: I tensorflow/core/platform/cpu_feature_guard.cc:210] This TensorFlow binary is optimized to use available CPU instructions in performance-critical operations.\n",
      "To enable the following instructions: AVX2 FMA, in other operations, rebuild TensorFlow with the appropriate compiler flags.\n",
      "2025-05-30 15:07:37.544186: W tensorflow/compiler/tf2tensorrt/utils/py_utils.cc:38] TF-TRT Warning: Could not find TensorRT\n",
      "2025-05-30 15:07:39.428363: I external/local_xla/xla/stream_executor/cuda/cuda_executor.cc:984] could not open file to read NUMA node: /sys/bus/pci/devices/0000:01:00.0/numa_node\n",
      "Your kernel may have been built without NUMA support.\n",
      "2025-05-30 15:07:39.485323: I external/local_xla/xla/stream_executor/cuda/cuda_executor.cc:984] could not open file to read NUMA node: /sys/bus/pci/devices/0000:01:00.0/numa_node\n",
      "Your kernel may have been built without NUMA support.\n",
      "2025-05-30 15:07:39.485398: I external/local_xla/xla/stream_executor/cuda/cuda_executor.cc:984] could not open file to read NUMA node: /sys/bus/pci/devices/0000:01:00.0/numa_node\n",
      "Your kernel may have been built without NUMA support.\n",
      "2025-05-30 15:07:39.487463: I external/local_xla/xla/stream_executor/cuda/cuda_executor.cc:984] could not open file to read NUMA node: /sys/bus/pci/devices/0000:01:00.0/numa_node\n",
      "Your kernel may have been built without NUMA support.\n",
      "2025-05-30 15:07:39.487547: I external/local_xla/xla/stream_executor/cuda/cuda_executor.cc:984] could not open file to read NUMA node: /sys/bus/pci/devices/0000:01:00.0/numa_node\n",
      "Your kernel may have been built without NUMA support.\n",
      "2025-05-30 15:07:39.487620: I external/local_xla/xla/stream_executor/cuda/cuda_executor.cc:984] could not open file to read NUMA node: /sys/bus/pci/devices/0000:01:00.0/numa_node\n",
      "Your kernel may have been built without NUMA support.\n",
      "2025-05-30 15:07:39.671490: I external/local_xla/xla/stream_executor/cuda/cuda_executor.cc:984] could not open file to read NUMA node: /sys/bus/pci/devices/0000:01:00.0/numa_node\n",
      "Your kernel may have been built without NUMA support.\n",
      "2025-05-30 15:07:39.671585: I external/local_xla/xla/stream_executor/cuda/cuda_executor.cc:984] could not open file to read NUMA node: /sys/bus/pci/devices/0000:01:00.0/numa_node\n",
      "Your kernel may have been built without NUMA support.\n",
      "2025-05-30 15:07:39.671599: I tensorflow/core/common_runtime/gpu/gpu_device.cc:2019] Could not identify NUMA node of platform GPU id 0, defaulting to 0.  Your kernel may not have been built with NUMA support.\n",
      "2025-05-30 15:07:39.671654: I external/local_xla/xla/stream_executor/cuda/cuda_executor.cc:984] could not open file to read NUMA node: /sys/bus/pci/devices/0000:01:00.0/numa_node\n",
      "Your kernel may have been built without NUMA support.\n",
      "2025-05-30 15:07:39.671688: I tensorflow/core/common_runtime/gpu/gpu_device.cc:1928] Created device /job:localhost/replica:0/task:0/device:GPU:0 with 2860 MB memory:  -> device: 0, name: NVIDIA GeForce GTX 1050 Ti, pci bus id: 0000:01:00.0, compute capability: 6.1\n"
     ]
    }
   ],
   "execution_count": 1
  },
  {
   "cell_type": "markdown",
   "source": [
    "## Loads the Data"
   ],
   "metadata": {
    "collapsed": false
   },
   "id": "49c910cf627be1a4"
  },
  {
   "cell_type": "code",
   "source": [
    "dataset_sizes = [912, 216, 294, 408, 12372]\n",
    "        \n",
    "def load_image(dataset, domain, index):\n",
    "    path = f'datasets/{dataset}/test/{domain}/{index}.png'        \n",
    "    return tf.cast(tf.io.decode_png(tf.io.read_file(path)), dtype=tf.float32) / 127.5 - 1.\n",
    "\n",
    "sample_character = {\n",
    "    'back': load_image('rpg-maker-xp', '0-back', 0),\n",
    "    'left': load_image('rpg-maker-xp', '1-left', 0),\n",
    "    'front': load_image('rpg-maker-xp', '2-front', 0),\n",
    "    'right': load_image('rpg-maker-xp', '3-right', 0)\n",
    "}\n"
   ],
   "metadata": {
    "collapsed": false,
    "ExecuteTime": {
     "end_time": "2025-05-30T18:07:39.987870Z",
     "start_time": "2025-05-30T18:07:39.924084Z"
    }
   },
   "id": "14248297bfa01905",
   "outputs": [],
   "execution_count": 2
  },
  {
   "cell_type": "markdown",
   "source": [
    "## Measures the Inference Time"
   ],
   "metadata": {
    "collapsed": false
   },
   "id": "c1a1c93e1452f25"
  },
  {
   "cell_type": "code",
   "source": [
    "import time\n",
    "\n",
    "def measure_inference_time(model, runs=2500):\n",
    "    best_time = float('inf')\n",
    "    start_before_loop = time.time()\n",
    "    for _ in range(runs):\n",
    "        start_of_iteration = time.time()\n",
    "        model()\n",
    "        time_taken_this_iteration = time.time() - start_of_iteration\n",
    "        \n",
    "        if 0 < time_taken_this_iteration < best_time:\n",
    "            best_time = time_taken_this_iteration\n",
    "    time_taken_loop = time.time() - start_before_loop\n",
    "\n",
    "    times = {\"best time\": best_time, \"average time\": time_taken_loop / runs }\n",
    "    \n",
    "    # clears keras session, to free memory\n",
    "    tf.keras.backend.clear_session()\n",
    "    \n",
    "    return times    \n",
    "\n",
    "\n",
    "# measures pix2pix time\n",
    "def measure_pix2pix():\n",
    "    model = model_loaders['pix2pix']()\n",
    "    model_callback = lambda source_image: lambda: model._select_model(2, 3)(source_image[tf.newaxis, ...])\n",
    "    # model_callback = lambda source_image: lambda: model(source_image[tf.newaxis, ...])\n",
    "\n",
    "    # warmup the model\n",
    "    model_callback(sample_character['front'])()\n",
    "    \n",
    "    stats = measure_inference_time(model_callback(sample_character['front']))\n",
    "    del model\n",
    "    return stats\n",
    "\n",
    "\n",
    "# measures stargan-study-network-and-sampler time\n",
    "def measure_stargan():\n",
    "    model = model_loaders['stargan']()\n",
    "    model_callback = lambda source_image, source_domain, target_domain: lambda: (\n",
    "        model.model([source_image[tf.newaxis, ...], tf.cast([[source_domain]], tf.float32), tf.cast([[target_domain]], tf.float32)]))\n",
    "    # model_callback = lambda source_image, source_domain, target_domain: lambda: (\n",
    "    #     model([source_image[tf.newaxis, ...], tf.constant([[source_domain]]), tf.constant([[target_domain]])]))\n",
    "\n",
    "    # warmup the model\n",
    "    model_callback(sample_character['front'], 2, 3)()\n",
    "\n",
    "    stats = measure_inference_time(model_callback(sample_character['front'], 2, 3))\n",
    "    del model\n",
    "    return stats\n",
    "\n",
    "# measures collagan time\n",
    "def measure_collagan():\n",
    "    model = model_loaders['collagan']()\n",
    "    model_callback = lambda source_images, target_domain: lambda: model.model([tf.stack(source_images)[tf.newaxis, ...], tf.cast([[target_domain]], tf.float32)])\n",
    "    # model_callback = lambda source_images, target_domain: lambda: model.generate_from_multiple([tf.stack(source_images)[tf.newaxis, ...], tf.constant([[target_domain]])])\n",
    "\n",
    "    # warmup the model\n",
    "    model_callback([sample_character['back'], sample_character['left'], sample_character['front'], tf.zeros_like(sample_character['right'])], 3)()\n",
    "    \n",
    "    stats = measure_inference_time(model_callback([sample_character['back'], sample_character['left'], sample_character['front'], tf.zeros_like(sample_character['right'])], 3))\n",
    "    del model\n",
    "    return stats\n"
   ],
   "metadata": {
    "collapsed": false
   },
   "id": "ec6ea370b6984f93",
   "outputs": [],
   "execution_count": 3
  },
  {
   "cell_type": "code",
   "source": [
    "collagan_time = measure_collagan()\n",
    "stargan_time = measure_stargan()\n",
    "pix2pix_time = measure_pix2pix()\n"
   ],
   "metadata": {
    "collapsed": false
   },
   "id": "d4788be7ca397830",
   "outputs": [
    {
     "name": "stderr",
     "output_type": "stream",
     "text": [
      "2025-05-30 15:08:47.029717: I external/local_xla/xla/stream_executor/cuda/cuda_dnn.cc:465] Loaded cuDNN version 8907\n",
      "2025-05-30 15:07:52.910167: W external/local_tsl/tsl/framework/bfc_allocator.cc:296] Allocator (GPU_0_bfc) ran out of memory trying to allocate 4.53GiB with freed_by_count=0. The caller indicates that this is not a failure, but this may mean that there could be performance gains if more memory were available.\n",
      "2025-05-30 15:07:53.050783: W external/local_tsl/tsl/framework/bfc_allocator.cc:296] Allocator (GPU_0_bfc) ran out of memory trying to allocate 2.88GiB with freed_by_count=0. The caller indicates that this is not a failure, but this may mean that there could be performance gains if more memory were available.\n",
      "2025-05-30 15:07:53.050880: W external/local_tsl/tsl/framework/bfc_allocator.cc:296] Allocator (GPU_0_bfc) ran out of memory trying to allocate 5.34GiB with freed_by_count=0. The caller indicates that this is not a failure, but this may mean that there could be performance gains if more memory were available.\n",
      "2025-05-30 15:13:06.999860: W external/local_tsl/tsl/framework/bfc_allocator.cc:296] Allocator (GPU_0_bfc) ran out of memory trying to allocate 4.27GiB with freed_by_count=0. The caller indicates that this is not a failure, but this may mean that there could be performance gains if more memory were available.\n",
      "2025-05-30 15:18:59.522792: W external/local_tsl/tsl/framework/bfc_allocator.cc:296] Allocator (GPU_0_bfc) ran out of memory trying to allocate 4.66GiB with freed_by_count=0. The caller indicates that this is not a failure, but this may mean that there could be performance gains if more memory were available.\n"
     ]
    }
   ],
   "execution_count": 4
  },
  {
   "cell_type": "code",
   "source": [
    "def print_results(results):\n",
    "    header_format = \"{:<8} | {:>17} | {:>17}\"\n",
    "    row_format = \"{:<10} | {:>17.2f} | {:>17.2f}\"\n",
    "    print(header_format.format(\"Model\", \"Best Time (ms)\", \"Average Time (ms)\"))\n",
    "    for name, result in results.items():\n",
    "        print(row_format.format(name, result['best time']*1000, result['average time']*1000))\n",
    "        \n",
    "        \n",
    "print_results({\n",
    "    'pix2pix': pix2pix_time,\n",
    "    'stargan': stargan_time,\n",
    "    'collagan': collagan_time\n",
    "})"
   ],
   "metadata": {
    "collapsed": false,
    "ExecuteTime": {
     "end_time": "2025-05-30T18:19:53.806877Z",
     "start_time": "2025-05-30T18:19:53.799622Z"
    }
   },
   "id": "a978c219bb0fae33",
   "outputs": [
    {
     "name": "stdout",
     "output_type": "stream",
     "text": [
      "Model    |    Best Time (ms) | Average Time (ms)\n",
      "pix2pix    |              7.27 |             21.45\n",
      "stargan    |             13.17 |            138.57\n",
      "collagan   |             22.20 |            122.15\n"
     ]
    }
   ],
   "execution_count": 5
  }
 ],
 "metadata": {
  "kernelspec": {
   "display_name": "Python 3",
   "language": "python",
   "name": "python3"
  },
  "language_info": {
   "codemirror_mode": {
    "name": "ipython",
    "version": 2
   },
   "file_extension": ".py",
   "mimetype": "text/x-python",
   "name": "python",
   "nbconvert_exporter": "python",
   "pygments_lexer": "ipython2",
   "version": "2.7.6"
  }
 },
 "nbformat": 4,
 "nbformat_minor": 5
}
