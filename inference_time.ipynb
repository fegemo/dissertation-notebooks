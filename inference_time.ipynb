{
 "cells": [
  {
   "cell_type": "markdown",
   "source": [
    "# Inference Time of the Proposed Models\n",
    "\n",
    "This notebook measures the time a model takes to generate an image. The time \n",
    "is selected as the quickest among 100 runs. It is not the average, as we\n",
    "want to know how fast inference takes in an environment that is dedicated\n",
    "to the task."
   ],
   "metadata": {
    "collapsed": false
   },
   "id": "a975b1c91f8640d"
  },
  {
   "cell_type": "markdown",
   "source": [
    "## Loads the Models"
   ],
   "metadata": {
    "collapsed": false
   },
   "id": "60fc05c58d7e6332"
  },
  {
   "cell_type": "code",
   "source": [
    "import tensorflow as tf\n",
    "\n",
    "model_loaders = {\n",
    "    'pix2pix': lambda: tf.keras.models.load_model('models/pix2pix/front-to-right', compile=False),\n",
    "    # 'stargan': lambda: tf.keras.models.load_model(\n",
    "    #     'models/selection/stargan-network-and-sampler/paired/target-multi/network-both', compile=False), # went to sbgames'24 originally\n",
    "    'stargan': lambda: tf.keras.models.load_model('models/stargan', compile=False),\n",
    "    'collagan': lambda: tf.keras.models.load_model('models/collagan', compile=False)\n",
    "}"
   ],
   "metadata": {
    "collapsed": false,
    "ExecuteTime": {
     "end_time": "2024-06-26T20:42:51.296354Z",
     "start_time": "2024-06-26T20:42:47.990322Z"
    }
   },
   "id": "2cd84df7b41fd025",
   "outputs": [],
   "execution_count": 1
  },
  {
   "cell_type": "markdown",
   "source": [
    "## Loads the Data"
   ],
   "metadata": {
    "collapsed": false
   },
   "id": "49c910cf627be1a4"
  },
  {
   "cell_type": "code",
   "source": [
    "dataset_sizes = [912, 216, 294, 408, 12372]\n",
    "        \n",
    "def load_image(dataset, domain, index):\n",
    "    path = f'datasets/{dataset}/test/{domain}/{index}.png'        \n",
    "    return tf.cast(tf.io.decode_png(tf.io.read_file(path)), dtype=tf.float32) / 127.5 - 1.\n",
    "\n",
    "sample_character = {\n",
    "    'back': load_image('rpg-maker-xp', '0-back', 0),\n",
    "    'left': load_image('rpg-maker-xp', '1-left', 0),\n",
    "    'front': load_image('rpg-maker-xp', '2-front', 0),\n",
    "    'right': load_image('rpg-maker-xp', '3-right', 0)\n",
    "}\n"
   ],
   "metadata": {
    "collapsed": false,
    "ExecuteTime": {
     "end_time": "2024-06-26T20:42:53.233387Z",
     "start_time": "2024-06-26T20:42:51.298297Z"
    }
   },
   "id": "14248297bfa01905",
   "outputs": [],
   "execution_count": 2
  },
  {
   "cell_type": "markdown",
   "source": [
    "## Measures the Inference Time"
   ],
   "metadata": {
    "collapsed": false
   },
   "id": "c1a1c93e1452f25"
  },
  {
   "cell_type": "code",
   "source": [
    "import time\n",
    "\n",
    "def measure_inference_time(model, runs=25000):\n",
    "    best_time = float('inf')\n",
    "    start_before_loop = time.time()\n",
    "    for _ in range(runs):\n",
    "        start_of_iteration = time.time()\n",
    "        model()\n",
    "        time_taken_this_iteration = time.time() - start_of_iteration\n",
    "        \n",
    "        if time_taken_this_iteration < best_time:\n",
    "            best_time = time_taken_this_iteration\n",
    "    time_taken_loop = time.time() - start_before_loop\n",
    "\n",
    "    times = {\"best time\": best_time, \"average time\": time_taken_loop / runs }\n",
    "    \n",
    "    # clears keras session, to free memory\n",
    "    tf.keras.backend.clear_session()\n",
    "    \n",
    "    return times    \n",
    "\n",
    "\n",
    "# measures pix2pix time\n",
    "def measure_pix2pix():\n",
    "    model = model_loaders['pix2pix']()\n",
    "    model_callback = lambda source_image: lambda: model(source_image[tf.newaxis, ...])\n",
    "    \n",
    "    # warmup the model\n",
    "    model_callback(sample_character['front'])()\n",
    "    \n",
    "    stats = measure_inference_time(model_callback(sample_character['front']))\n",
    "    del model\n",
    "    return stats\n",
    "\n",
    "\n",
    "# measures stargan-study-network-and-sampler time\n",
    "def measure_stargan():\n",
    "    model = model_loaders['stargan']()\n",
    "    model_callback = lambda source_image, source_domain, target_domain: lambda: (\n",
    "        model([source_image[tf.newaxis, ...], tf.constant([[source_domain]]), tf.constant([[target_domain]])]))\n",
    "    \n",
    "    # warmup the model\n",
    "    model_callback(sample_character['front'], 2, 3)()\n",
    "\n",
    "    stats = measure_inference_time(model_callback(sample_character['front'], 2, 3))\n",
    "    del model\n",
    "    return stats\n",
    "\n",
    "# measures collagan time\n",
    "def measure_collagan():\n",
    "    model = model_loaders['collagan']()\n",
    "    model_callback = lambda source_images, target_domain: lambda: model([tf.stack(source_images)[tf.newaxis, ...], tf.constant([[target_domain]])])\n",
    "    \n",
    "    # warmup the model\n",
    "    model_callback([sample_character['back'], sample_character['left'], sample_character['front'], tf.zeros_like(sample_character['right'])], 3)()\n",
    "    \n",
    "    stats = measure_inference_time(model_callback([sample_character['back'], sample_character['left'], sample_character['front'], tf.zeros_like(sample_character['right'])], 3))\n",
    "    del model\n",
    "    return stats\n"
   ],
   "metadata": {
    "collapsed": false,
    "ExecuteTime": {
     "end_time": "2024-06-26T20:42:53.257387Z",
     "start_time": "2024-06-26T20:42:53.235391Z"
    }
   },
   "id": "ec6ea370b6984f93",
   "outputs": [],
   "execution_count": 3
  },
  {
   "cell_type": "code",
   "source": [
    "collagan_time = measure_collagan()\n",
    "stargan_time = measure_stargan()\n",
    "pix2pix_time = measure_pix2pix()\n"
   ],
   "metadata": {
    "collapsed": false,
    "ExecuteTime": {
     "end_time": "2024-06-26T23:03:20.859105Z",
     "start_time": "2024-06-26T20:42:53.260389Z"
    }
   },
   "id": "d4788be7ca397830",
   "outputs": [
    {
     "name": "stderr",
     "output_type": "stream",
     "text": [
      "D:\\Projetos 2\\dissertation-notebooks\\.venv\\lib\\site-packages\\keras\\initializers\\initializers_v2.py:121: UserWarning: The initializer RandomNormal is unseeded and being called multiple times, which will return identical values  each time (even if the initializer is unseeded). Please update your code to provide a seed to the initializer, or avoid using the same initalizer instance more than once.\n",
      "  f\"The initializer {self.__class__.__name__} is unseeded \"\n",
      "D:\\Projetos 2\\dissertation-notebooks\\.venv\\lib\\site-packages\\keras\\initializers\\initializers_v2.py:121: UserWarning: The initializer RandomNormal is unseeded and being called multiple times, which will return identical values  each time (even if the initializer is unseeded). Please update your code to provide a seed to the initializer, or avoid using the same initalizer instance more than once.\n",
      "  f\"The initializer {self.__class__.__name__} is unseeded \"\n"
     ]
    }
   ],
   "execution_count": 4
  },
  {
   "cell_type": "code",
   "source": [
    "def print_results(results):\n",
    "    header_format = \"{:<8} | {:>17} | {:>17}\"\n",
    "    row_format = \"{:<10} | {:>17.2f} | {:>17.2f}\"\n",
    "    print(header_format.format(\"Model\", \"Best Time (ms)\", \"Average Time (ms)\"))\n",
    "    for name, result in results.items():\n",
    "        print(row_format.format(name, result['best time']*1000, result['average time']*1000))\n",
    "        \n",
    "        \n",
    "print_results({\n",
    "    'pix2pix': pix2pix_time,\n",
    "    'stargan': stargan_time,\n",
    "    'collagan': collagan_time\n",
    "})"
   ],
   "metadata": {
    "collapsed": false,
    "ExecuteTime": {
     "end_time": "2024-06-26T23:03:20.875036Z",
     "start_time": "2024-06-26T23:03:20.861041Z"
    }
   },
   "id": "a978c219bb0fae33",
   "outputs": [
    {
     "name": "stdout",
     "output_type": "stream",
     "text": [
      "Model    |    Best Time (ms) | Average Time (ms)\n",
      "pix2pix    |             30.92 |             33.53\n",
      "stargan    |             46.03 |            144.58\n",
      "collagan   |            110.03 |            158.09\n"
     ]
    }
   ],
   "execution_count": 5
  }
 ],
 "metadata": {
  "kernelspec": {
   "display_name": "Python 3",
   "language": "python",
   "name": "python3"
  },
  "language_info": {
   "codemirror_mode": {
    "name": "ipython",
    "version": 2
   },
   "file_extension": ".py",
   "mimetype": "text/x-python",
   "name": "python",
   "nbconvert_exporter": "python",
   "pygments_lexer": "ipython2",
   "version": "2.7.6"
  }
 },
 "nbformat": 4,
 "nbformat_minor": 5
}
