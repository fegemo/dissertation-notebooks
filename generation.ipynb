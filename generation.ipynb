{
 "cells": [
  {
   "cell_type": "markdown",
   "source": [
    "# Generating images with the Proposed Models\n",
    "\n",
    "This notebook measures the time a model takes to generate an image. The time \n",
    "is selected as the quickest among 100 runs. It is not the average, as we\n",
    "want to know how fast inference takes in an environment that is dedicated\n",
    "to the task."
   ],
   "metadata": {
    "collapsed": false
   },
   "id": "a975b1c91f8640d"
  },
  {
   "cell_type": "markdown",
   "source": [
    "## Loading the Models"
   ],
   "metadata": {
    "collapsed": false
   },
   "id": "60fc05c58d7e6332"
  },
  {
   "cell_type": "code",
   "source": [
    "import tensorflow as tf\n",
    "\n",
    "model_loaders = {\n",
    "    'pix2pix': lambda: tf.keras.models.load_model('models/pix2pix/front-to-right', compile=False),\n",
    "    'stargan': lambda: tf.keras.models.load_model('models/stargan', compile=False),\n",
    "    'collagan': lambda: tf.keras.models.load_model('models/collagan', compile=False)\n",
    "}\n",
    "\n",
    "pix2pix = model_loaders['pix2pix']()\n",
    "stargan = model_loaders['stargan']()\n",
    "collagan = model_loaders['collagan']()\n"
   ],
   "metadata": {
    "collapsed": false,
    "ExecuteTime": {
     "end_time": "2024-03-12T13:11:18.020364Z",
     "start_time": "2024-03-12T13:10:14.294209Z"
    }
   },
   "id": "2cd84df7b41fd025",
   "execution_count": 1,
   "outputs": []
  },
  {
   "cell_type": "markdown",
   "source": [
    "## Counting Layers"
   ],
   "metadata": {
    "collapsed": false
   },
   "id": "9df01b509bc41804"
  },
  {
   "cell_type": "code",
   "source": [
    "def count_layers(model):\n",
    "    return len(model.layers)\n",
    "\n",
    "number_of_layers = [\n",
    "    ('pix2pix', count_layers(pix2pix)),\n",
    "    ('stargan', count_layers(stargan)),\n",
    "    ('collagan', count_layers(collagan))\n",
    "]\n",
    "\n",
    "header_format = \"{:<10} | {:>8}\"\n",
    "row_format = \"{:<10} | {:>8d}\"\n",
    "print(header_format.format('Model', 'Layers'))\n",
    "for model, layers in number_of_layers:\n",
    "    print(row_format.format(model, layers))\n",
    "\n"
   ],
   "metadata": {
    "collapsed": false,
    "ExecuteTime": {
     "end_time": "2024-03-12T13:11:57.941109Z",
     "start_time": "2024-03-12T13:11:57.930077Z"
    }
   },
   "id": "3e3ca2a6d43f7c5a",
   "execution_count": 4,
   "outputs": []
  },
  {
   "cell_type": "markdown",
   "source": [
    "## Loading the Data"
   ],
   "metadata": {
    "collapsed": false
   },
   "id": "49c910cf627be1a4"
  },
  {
   "cell_type": "code",
   "source": [
    "def load_image(dataset, domain, index):\n",
    "    path = f'datasets/{dataset}/test/{domain}/{index}.png'\n",
    "    image = tf.io.read_file(path)\n",
    "    image = tf.io.decode_png(image, channels=4)\n",
    "    image = tf.cast(image, \"float32\")\n",
    "    image = (image / 127.5) - 1.\n",
    "    return image\n",
    "\n",
    "def load_character(index):\n",
    "    return {\n",
    "    'back': load_image('rpg-maker-xp', '0-back', index),\n",
    "    'left': load_image('rpg-maker-xp', '1-left', index),\n",
    "    'front': load_image('rpg-maker-xp', '2-front', index),\n",
    "    'right': load_image('rpg-maker-xp', '3-right', index)\n",
    "}\n"
   ],
   "metadata": {
    "collapsed": false,
    "ExecuteTime": {
     "end_time": "2024-03-12T16:06:18.934119Z",
     "start_time": "2024-03-12T16:06:18.920087Z"
    }
   },
   "id": "14248297bfa01905",
   "execution_count": 7,
   "outputs": []
  },
  {
   "cell_type": "markdown",
   "source": [
    "## Generating Images"
   ],
   "metadata": {
    "collapsed": false
   },
   "id": "c1a1c93e1452f25"
  },
  {
   "cell_type": "code",
   "source": [
    "from ipywidgets import interact\n",
    "from matplotlib import pyplot as plt"
   ],
   "metadata": {
    "collapsed": false,
    "ExecuteTime": {
     "end_time": "2024-03-12T16:06:18.918160Z",
     "start_time": "2024-03-12T16:06:16.582569Z"
    }
   },
   "id": "804b0edacd86ff9a",
   "execution_count": 6,
   "outputs": []
  },
  {
   "cell_type": "code",
   "source": [
    "@interact(index=(0,43))\n",
    "def generate_pix2pix(index=0):\n",
    "    character = load_character(index)\n",
    "    \n",
    "    source_image = character['front']\n",
    "    \n",
    "    target_image = pix2pix(source_image[tf.newaxis, ...], training=True)\n",
    "    target_image = tf.squeeze(target_image)\n",
    "    \n",
    "    fig = plt.figure(figsize=(8, 4))\n",
    "    plt.subplot(1, 2, 1)\n",
    "    plt.imshow(source_image * 0.5 + 0.5)\n",
    "    plt.title(f'Source Image: {index}')\n",
    "    plt.axis('off')\n",
    "    \n",
    "    plt.subplot(1, 2, 2)\n",
    "    plt.imshow(target_image * 0.5 + 0.5)\n",
    "    plt.title(f'Generated: {index}')\n",
    "    plt.axis('off')\n",
    "    plt.show()\n",
    "    \n",
    "    fig.tight_layout()\n",
    "        \n"
   ],
   "metadata": {
    "collapsed": false,
    "ExecuteTime": {
     "end_time": "2024-03-12T16:06:32.167214Z",
     "start_time": "2024-03-12T16:06:20.934785Z"
    }
   },
   "id": "ec6ea370b6984f93",
   "execution_count": 8,
   "outputs": []
  },
  {
   "cell_type": "code",
   "source": [
    "@interact(index=(0,43))\n",
    "def generate_stargan(index=0):\n",
    "    character = load_character(index)\n",
    "    \n",
    "    source_image = character['front']\n",
    "    source_domain = 2\n",
    "    target_domain = 3\n",
    "    \n",
    "    target_image = stargan([\n",
    "        source_image[tf.newaxis, ...],\n",
    "        tf.constant([[target_domain]]),\n",
    "        tf.constant([[source_domain]]),\n",
    "    ])\n",
    "    target_image = tf.squeeze(target_image)\n",
    "    \n",
    "    fig = plt.figure(figsize=(8, 4))\n",
    "    plt.subplot(1, 2, 1)\n",
    "    plt.imshow(source_image * 0.5 + 0.5)\n",
    "    plt.title(f'Source Image: {index}')\n",
    "    plt.axis('off')\n",
    "    \n",
    "    plt.subplot(1, 2, 2)\n",
    "    plt.imshow(target_image * 0.5 + 0.5)\n",
    "    plt.title(f'Generated: {index}')\n",
    "    plt.axis('off')\n",
    "    plt.show()\n",
    "    \n",
    "    fig.tight_layout()\n",
    "\n"
   ],
   "metadata": {
    "collapsed": false,
    "ExecuteTime": {
     "end_time": "2024-03-12T16:06:53.071422Z",
     "start_time": "2024-03-12T16:06:51.528147Z"
    }
   },
   "id": "5ef3231d6c76de41",
   "execution_count": 9,
   "outputs": []
  },
  {
   "cell_type": "code",
   "source": [
    "@interact(index=(0,43))\n",
    "def generate_collagan(index=0):\n",
    "    character = load_character(index)\n",
    "    \n",
    "    source_images = tf.stack([character['back'], character['left'], character['front'], tf.zeros_like(character['right'])])\n",
    "    target_domain = 3\n",
    "\n",
    "    target_image = collagan([source_images[tf.newaxis, ...], tf.constant([[target_domain]])], training=True)    \n",
    "    target_image = tf.squeeze(target_image)\n",
    "    \n",
    "    fig = plt.figure(figsize=(8, 4))\n",
    "    plt.subplot(1, 2, 1)\n",
    "    plt.title(f'Source Images: {index}')\n",
    "    plt.axis('off')\n",
    "    \n",
    "    for i, idx in enumerate([1, 2, 5, 6]):\n",
    "        plt.subplot(2, 4, idx)\n",
    "        plt.imshow(source_images[i] * 0.5 + 0.5, interpolation='nearest')\n",
    "        plt.axis('off')\n",
    "\n",
    "    plt.subplot(1, 2, 2)\n",
    "    plt.imshow(target_image * 0.5 + 0.5, interpolation='nearest')\n",
    "    plt.title(f'Generated: {index}')\n",
    "    plt.axis('off')\n",
    "    plt.show()\n",
    "\n",
    "    fig.tight_layout()\n"
   ],
   "metadata": {
    "collapsed": false,
    "ExecuteTime": {
     "end_time": "2024-03-12T16:07:02.810603Z",
     "start_time": "2024-03-12T16:07:00.599967Z"
    }
   },
   "id": "b95f4fc99e898d7b",
   "execution_count": 10,
   "outputs": []
  }
 ],
 "metadata": {
  "kernelspec": {
   "display_name": "Python 3",
   "language": "python",
   "name": "python3"
  },
  "language_info": {
   "codemirror_mode": {
    "name": "ipython",
    "version": 2
   },
   "file_extension": ".py",
   "mimetype": "text/x-python",
   "name": "python",
   "nbconvert_exporter": "python",
   "pygments_lexer": "ipython2",
   "version": "2.7.6"
  }
 },
 "nbformat": 4,
 "nbformat_minor": 5
}
