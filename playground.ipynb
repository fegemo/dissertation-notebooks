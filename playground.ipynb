{
 "cells": [
  {
   "metadata": {},
   "cell_type": "markdown",
   "source": [
    "# Playground\n",
    "\n",
    "A place that hosts different tests and experiments necessary during the development of the notebooks.\n"
   ],
   "id": "5854bfa0bd25a4a7"
  },
  {
   "metadata": {},
   "cell_type": "markdown",
   "source": [
    "## Comparing the FID calculations (old and new)\n",
    "\n",
    "frechet_inception.distance.py is used as an evaluation step during training, whereas fid.py was developed to be run after the training is done. The two scripts should produce the same results."
   ],
   "id": "bab1d1f487915437"
  },
  {
   "metadata": {
    "ExecuteTime": {
     "end_time": "2024-05-06T23:56:56.562320Z",
     "start_time": "2024-05-06T23:56:46.430015Z"
    }
   },
   "cell_type": "code",
   "source": [
    "import numpy as np\n",
    "import tensorflow as tf\n",
    "import fid as fid_new\n",
    "import frechet_inception_distance_OLD as fid_old\n",
    "from dataset_utils import DatasetLoader\n",
    "from ModelProxy import Pix2PixModelProxy\n",
    "\n",
    "dataset_loader = DatasetLoader(\"all\", \"test\", limit=500)\n",
    "pix2pix = Pix2PixModelProxy(\"models/pix2pix\")\n",
    "\n",
    "test_ds = dataset_loader.dataset.batch(100)\n"
   ],
   "id": "737dc25727ef3abd",
   "execution_count": 1,
   "outputs": []
  },
  {
   "metadata": {
    "ExecuteTime": {
     "end_time": "2024-05-06T23:58:16.427784Z",
     "start_time": "2024-05-06T23:56:56.566319Z"
    }
   },
   "cell_type": "code",
   "source": [
    "real_images = []\n",
    "fake_images = []\n",
    "for i, batch in test_ds.enumerate():\n",
    "    target_images = tf.gather(batch, 3) \n",
    "    generated_images = pix2pix.generate(2, 3, batch)\n",
    "    real_images.append(target_images.numpy())\n",
    "    fake_images.append(generated_images.numpy())\n",
    "\n",
    "real_images = np.concatenate(real_images)\n",
    "fake_images = np.concatenate(fake_images)\n",
    "value_old = fid_old.compare(real_images, fake_images)\n",
    "value_new = fid_new.calculate_fid(real_images, fake_images)\n",
    "value_new_split = fid_new.calculate_fid_from_metrics(\n",
    "    fid_new.calculate_metrics_for_dataset(real_images),\n",
    "    fid_new.calculate_metrics_for_dataset(fake_images)\n",
    ")\n",
    "print(f\"Old FID: {value_old}\")\n",
    "print(f\"New FID: {value_new}\")\n",
    "print(f\"New FID (split): {value_new_split}\")"
   ],
   "id": "c9145e18d87be8c0",
   "execution_count": 2,
   "outputs": []
  },
  {
   "metadata": {
    "ExecuteTime": {
     "end_time": "2024-05-06T23:58:16.730706Z",
     "start_time": "2024-05-06T23:58:16.429753Z"
    }
   },
   "cell_type": "code",
   "source": [
    "from image_utils import show_single_image\n",
    "\n",
    "show_single_image(real_images[0], \"real 0\")\n",
    "show_single_image(fake_images[0], \"fake 0\")\n"
   ],
   "id": "87b2c8a03166f922",
   "execution_count": 3,
   "outputs": []
  },
  {
   "metadata": {},
   "cell_type": "markdown",
   "source": "## Comparing the resizing methods (TF vs skimage)",
   "id": "a6cc2a4a39f1a98e"
  },
  {
   "metadata": {
    "ExecuteTime": {
     "end_time": "2024-05-06T23:58:16.904669Z",
     "start_time": "2024-05-06T23:58:16.732671Z"
    }
   },
   "cell_type": "code",
   "source": [
    "import skimage.transform as sk_transforms\n",
    "tf_resized = tf.image.resize(real_images[0][..., 0:3], (299, 299), method=\"nearest\")\n",
    "sk_resized = sk_transforms.resize(real_images[0][..., 0:3], (299, 299, 3), order=0)\n",
    "\n",
    "l1_distance = np.mean(np.abs(tf_resized.numpy() - sk_resized))\n",
    "print(f\"L1 distance: {l1_distance}\")\n",
    "\n",
    "show_single_image(tf_resized.numpy(), \"tf_resized\")\n",
    "show_single_image(sk_resized, \"sk_resized\")\n",
    "\n"
   ],
   "id": "ea1ec6826ed36dc3",
   "execution_count": 4,
   "outputs": []
  },
  {
   "metadata": {},
   "cell_type": "markdown",
   "source": "## Creating a checkerboard pattern\n",
   "id": "95aced5fd7439ed6"
  },
  {
   "metadata": {
    "ExecuteTime": {
     "end_time": "2024-05-07T21:12:04.008598Z",
     "start_time": "2024-05-07T21:12:03.762770Z"
    }
   },
   "cell_type": "code",
   "source": [
    "import tensorflow as tf\n",
    "from matplotlib import pyplot as plt\n",
    "\n",
    "checkerboard_image = tf.pad(tf.tile(tf.constant([[0, 1], [1, 0]], dtype=tf.float32), [4, 4]), [[1, 1], [1, 1]], constant_values=1)\n",
    "print(checkerboard_image)\n",
    "plt.imshow(checkerboard_image * 0.3 + 0.7, cmap=\"gray\", vmin=0, vmax=1)\n",
    "plt.axis(\"off\")\n",
    "plt.show()\n"
   ],
   "id": "5377796813fc21f5",
   "execution_count": 14,
   "outputs": []
  },
  {
   "metadata": {},
   "cell_type": "markdown",
   "source": [
    "## Generating image with samples from the Larger database\n",
    "\n"
   ],
   "id": "260e435fca2a275c"
  },
  {
   "metadata": {
    "ExecuteTime": {
     "end_time": "2024-07-02T14:35:51.822437Z",
     "start_time": "2024-07-02T14:35:51.801438Z"
    }
   },
   "cell_type": "code",
   "source": [
    "from math import ceil\n",
    "\n",
    "dataset_sizes = [912, 216, 294, 408, 12372]\n",
    "train_sizes = [int(ceil(size * 0.85)) for size in dataset_sizes]\n",
    "test_sizes = [size - train_size for size, train_size in zip(dataset_sizes, train_sizes)]\n",
    "print(\"train_sizes\", train_sizes)\n",
    "print(\"test_sizes\", test_sizes)\n",
    "\n",
    "starting_index_train = [0] + [sum(train_sizes[:i]) for i in range(1, len(train_sizes))]\n",
    "starting_index_test = [0] + [sum(test_sizes[:i]) for i in range(1, len(test_sizes))]\n",
    "print(\"starting_index_train\", starting_index_train)\n",
    "print(\"starting_index_test\", starting_index_test)"
   ],
   "id": "2ca51c3219724f79",
   "outputs": [
    {
     "name": "stdout",
     "output_type": "stream",
     "text": [
      "train_sizes [776, 184, 250, 347, 10517]\n",
      "test_sizes [136, 32, 44, 61, 1855]\n",
      "starting_index_train [0, 776, 960, 1210, 1557]\n",
      "starting_index_test [0, 136, 168, 212, 273]\n"
     ]
    }
   ],
   "execution_count": 1
  },
  {
   "metadata": {
    "ExecuteTime": {
     "end_time": "2024-07-02T14:36:28.783554Z",
     "start_time": "2024-07-02T14:36:26.214943Z"
    }
   },
   "cell_type": "code",
   "source": [
    "from matplotlib import pyplot as plt\n",
    "from dataset_utils import DatasetLoader\n",
    "\n",
    "train_dataset_loader = DatasetLoader(\"all\", \"train\")\n",
    "test_dataset_loader = DatasetLoader(\"all\", \"test\")\n",
    "\n",
    "# train_indices = [1557+2, 1557+7876, 1557+9489, 0+99]\n",
    "# test_indices = [273+74, 273+1551, 273+1709, ]\n",
    "train_indices = []\n",
    "test_indices = [168+23, 168+3, 168+5]\n",
    "\n",
    "# gets images with train and test indices in the columns and the four different directions in the rows\n",
    "train_images = [train_dataset_loader.load_paired_images(number) for number in train_indices]\n",
    "test_images = [test_dataset_loader.load_paired_images(number) for number in test_indices]\n",
    "all_images = train_images + test_images\n",
    "\n",
    "# shows an image with the four different directions in the rows and the train and test images in the columns\n",
    "rows = 4\n",
    "cols = len(all_images)\n",
    "fig = plt.figure(figsize=(4*cols, 4*rows))\n",
    "for i in range(rows):\n",
    "    for j in range(cols):\n",
    "        plt.subplot(rows, cols, i*cols + j + 1, facecolor='w')\n",
    "        plt.imshow(all_images[j][i] * 0.5 + 0.5, interpolation=\"nearest\")\n",
    "        plt.axis(\"off\")\n",
    "fig.patch.set_alpha(0.0)\n",
    "plt.tight_layout()\n",
    "plt.show()\n",
    "# plt.savefig(\"larger-dataset-examples.png\", transparent=True)"
   ],
   "id": "96ade8d3fa41f757",
   "outputs": [
    {
     "name": "stdout",
     "output_type": "stream",
     "text": [
      "WARNING:tensorflow:5 out of the last 5 calls to <function DatasetLoader.load_paired_images at 0x000001D8E31AD8B8> triggered tf.function retracing. Tracing is expensive and the excessive number of tracings could be due to (1) creating @tf.function repeatedly in a loop, (2) passing tensors with different shapes, (3) passing Python objects instead of tensors. For (1), please define your @tf.function outside of the loop. For (2), @tf.function has reduce_retracing=True option that can avoid unnecessary retracing. For (3), please refer to https://www.tensorflow.org/guide/function#controlling_retracing and https://www.tensorflow.org/api_docs/python/tf/function for  more details.\n",
      "WARNING:tensorflow:6 out of the last 6 calls to <function DatasetLoader.load_paired_images at 0x000001D8E31AD8B8> triggered tf.function retracing. Tracing is expensive and the excessive number of tracings could be due to (1) creating @tf.function repeatedly in a loop, (2) passing tensors with different shapes, (3) passing Python objects instead of tensors. For (1), please define your @tf.function outside of the loop. For (2), @tf.function has reduce_retracing=True option that can avoid unnecessary retracing. For (3), please refer to https://www.tensorflow.org/guide/function#controlling_retracing and https://www.tensorflow.org/api_docs/python/tf/function for  more details.\n"
     ]
    },
    {
     "data": {
      "text/plain": [
       "<Figure size 1200x1600 with 12 Axes>"
      ],
      "image/png": "[encoded data removed]"
     },
     "metadata": {
      "needs_background": "light"
     },
     "output_type": "display_data"
    }
   ],
   "execution_count": 3
  },
  {
   "metadata": {},
   "cell_type": "markdown",
   "source": "## Generating a checkerboard pattern\n",
   "id": "34d5725c77bd84a4"
  },
  {
   "metadata": {
    "ExecuteTime": {
     "end_time": "2024-06-15T16:38:07.628476Z",
     "start_time": "2024-06-15T16:38:07.546339Z"
    }
   },
   "cell_type": "code",
   "source": [
    "import tensorflow as tf\n",
    "from matplotlib import pyplot as plt\n",
    "\n",
    "def checkerboard_pattern():\n",
    "    return tf.pad(tf.tile(tf.constant([[0, 1], [1, 0]], dtype=tf.float32), [4, 4]), [[1, 1], [1, 1]],\n",
    "                  constant_values=1) * 0.2 + 0.8\n",
    "\n",
    "def new_checkerboard_pattern():\n",
    "    checkers = tf.tile(tf.constant([[0, 1], [1, 0]], dtype=tf.float32), [4, 4])\n",
    "    rgba_checkers = tf.stack([checkers, checkers, checkers, tf.ones_like(checkers)], axis=-1) * 0.2 + 0.8\n",
    "    return tf.pad(rgba_checkers, [[1, 1], [1, 1], [0, 0]], constant_values=0)\n",
    "\n",
    "image = new_checkerboard_pattern()\n",
    "print(image)\n",
    "f = plt.figure(figsize=(4, 4))\n",
    "plt.imshow(image)\n",
    "plt.axis(\"off\")\n",
    "plt.show()\n",
    "f.patch.set_alpha(0.0)\n",
    "f.savefig(\"output/checkerboard-pattern.png\", transparent=True)\n"
   ],
   "id": "573060c89edb0606",
   "outputs": [
    {
     "name": "stdout",
     "output_type": "stream",
     "text": [
      "tf.Tensor(\n",
      "[[[0.  0.  0.  0. ]\n",
      "  [0.  0.  0.  0. ]\n",
      "  [0.  0.  0.  0. ]\n",
      "  [0.  0.  0.  0. ]\n",
      "  [0.  0.  0.  0. ]\n",
      "  [0.  0.  0.  0. ]\n",
      "  [0.  0.  0.  0. ]\n",
      "  [0.  0.  0.  0. ]\n",
      "  [0.  0.  0.  0. ]\n",
      "  [0.  0.  0.  0. ]]\n",
      "\n",
      " [[0.  0.  0.  0. ]\n",
      "  [0.8 0.8 0.8 1. ]\n",
      "  [1.  1.  1.  1. ]\n",
      "  [0.8 0.8 0.8 1. ]\n",
      "  [1.  1.  1.  1. ]\n",
      "  [0.8 0.8 0.8 1. ]\n",
      "  [1.  1.  1.  1. ]\n",
      "  [0.8 0.8 0.8 1. ]\n",
      "  [1.  1.  1.  1. ]\n",
      "  [0.  0.  0.  0. ]]\n",
      "\n",
      " [[0.  0.  0.  0. ]\n",
      "  [1.  1.  1.  1. ]\n",
      "  [0.8 0.8 0.8 1. ]\n",
      "  [1.  1.  1.  1. ]\n",
      "  [0.8 0.8 0.8 1. ]\n",
      "  [1.  1.  1.  1. ]\n",
      "  [0.8 0.8 0.8 1. ]\n",
      "  [1.  1.  1.  1. ]\n",
      "  [0.8 0.8 0.8 1. ]\n",
      "  [0.  0.  0.  0. ]]\n",
      "\n",
      " [[0.  0.  0.  0. ]\n",
      "  [0.8 0.8 0.8 1. ]\n",
      "  [1.  1.  1.  1. ]\n",
      "  [0.8 0.8 0.8 1. ]\n",
      "  [1.  1.  1.  1. ]\n",
      "  [0.8 0.8 0.8 1. ]\n",
      "  [1.  1.  1.  1. ]\n",
      "  [0.8 0.8 0.8 1. ]\n",
      "  [1.  1.  1.  1. ]\n",
      "  [0.  0.  0.  0. ]]\n",
      "\n",
      " [[0.  0.  0.  0. ]\n",
      "  [1.  1.  1.  1. ]\n",
      "  [0.8 0.8 0.8 1. ]\n",
      "  [1.  1.  1.  1. ]\n",
      "  [0.8 0.8 0.8 1. ]\n",
      "  [1.  1.  1.  1. ]\n",
      "  [0.8 0.8 0.8 1. ]\n",
      "  [1.  1.  1.  1. ]\n",
      "  [0.8 0.8 0.8 1. ]\n",
      "  [0.  0.  0.  0. ]]\n",
      "\n",
      " [[0.  0.  0.  0. ]\n",
      "  [0.8 0.8 0.8 1. ]\n",
      "  [1.  1.  1.  1. ]\n",
      "  [0.8 0.8 0.8 1. ]\n",
      "  [1.  1.  1.  1. ]\n",
      "  [0.8 0.8 0.8 1. ]\n",
      "  [1.  1.  1.  1. ]\n",
      "  [0.8 0.8 0.8 1. ]\n",
      "  [1.  1.  1.  1. ]\n",
      "  [0.  0.  0.  0. ]]\n",
      "\n",
      " [[0.  0.  0.  0. ]\n",
      "  [1.  1.  1.  1. ]\n",
      "  [0.8 0.8 0.8 1. ]\n",
      "  [1.  1.  1.  1. ]\n",
      "  [0.8 0.8 0.8 1. ]\n",
      "  [1.  1.  1.  1. ]\n",
      "  [0.8 0.8 0.8 1. ]\n",
      "  [1.  1.  1.  1. ]\n",
      "  [0.8 0.8 0.8 1. ]\n",
      "  [0.  0.  0.  0. ]]\n",
      "\n",
      " [[0.  0.  0.  0. ]\n",
      "  [0.8 0.8 0.8 1. ]\n",
      "  [1.  1.  1.  1. ]\n",
      "  [0.8 0.8 0.8 1. ]\n",
      "  [1.  1.  1.  1. ]\n",
      "  [0.8 0.8 0.8 1. ]\n",
      "  [1.  1.  1.  1. ]\n",
      "  [0.8 0.8 0.8 1. ]\n",
      "  [1.  1.  1.  1. ]\n",
      "  [0.  0.  0.  0. ]]\n",
      "\n",
      " [[0.  0.  0.  0. ]\n",
      "  [1.  1.  1.  1. ]\n",
      "  [0.8 0.8 0.8 1. ]\n",
      "  [1.  1.  1.  1. ]\n",
      "  [0.8 0.8 0.8 1. ]\n",
      "  [1.  1.  1.  1. ]\n",
      "  [0.8 0.8 0.8 1. ]\n",
      "  [1.  1.  1.  1. ]\n",
      "  [0.8 0.8 0.8 1. ]\n",
      "  [0.  0.  0.  0. ]]\n",
      "\n",
      " [[0.  0.  0.  0. ]\n",
      "  [0.  0.  0.  0. ]\n",
      "  [0.  0.  0.  0. ]\n",
      "  [0.  0.  0.  0. ]\n",
      "  [0.  0.  0.  0. ]\n",
      "  [0.  0.  0.  0. ]\n",
      "  [0.  0.  0.  0. ]\n",
      "  [0.  0.  0.  0. ]\n",
      "  [0.  0.  0.  0. ]\n",
      "  [0.  0.  0.  0. ]]], shape=(10, 10, 4), dtype=float32)\n"
     ]
    },
    {
     "data": {
      "text/plain": [
       "<Figure size 400x400 with 1 Axes>"
      ],
      "image/png": "[encoded data removed]"
     },
     "metadata": {},
     "output_type": "display_data"
    }
   ],
   "execution_count": 12
  },
  {
   "metadata": {},
   "cell_type": "code",
   "outputs": [],
   "execution_count": null,
   "source": "",
   "id": "99a5c0aba56f49fe"
  }
 ],
 "metadata": {
  "kernelspec": {
   "display_name": "Python 3",
   "language": "python",
   "name": "python3"
  },
  "language_info": {
   "codemirror_mode": {
    "name": "ipython",
    "version": 2
   },
   "file_extension": ".py",
   "mimetype": "text/x-python",
   "name": "python",
   "nbconvert_exporter": "python",
   "pygments_lexer": "ipython2",
   "version": "2.7.6"
  }
 },
 "nbformat": 4,
 "nbformat_minor": 5
}
